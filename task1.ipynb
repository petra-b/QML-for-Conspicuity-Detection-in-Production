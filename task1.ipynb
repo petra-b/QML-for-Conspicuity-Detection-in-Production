{
 "cells": [
  {
   "cell_type": "markdown",
   "metadata": {},
   "source": [
    "I am already familiar with Pennylane so it doesn't make much sense to go through basic tutorials again."
   ]
  }
 ],
 "metadata": {
  "language_info": {
   "name": "python"
  }
 },
 "nbformat": 4,
 "nbformat_minor": 2
}
